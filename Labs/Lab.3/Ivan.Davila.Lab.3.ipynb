{
 "cells": [
  {
   "cell_type": "markdown",
   "metadata": {},
   "source": [
    "# Lab 3\n",
    "\n",
    "In this lab we will become familiar with distributions, histograms, and functional programming. Do not use numpy or any other library for this lab.\n",
    "\n",
    "Before that, lets get setup homework submission and submit your previous lab.  \n",
    "\n",
    "## Working on the Command-line.\n",
    "\n",
    "It is important for you to learn to work on the command line and to be familiar with the Unix environment (e.g. Linux, Mac OS, or Windows Linux Subsystem). We'll go over working on the command-line in detail later in the course.\n",
    "\n",
    "You are required to submit your work in this course via GitHub. Today in class, you will setup everything on the command-line.\n",
    "\n",
    "### Command-line basics\n",
    "\n",
    "There is plenty of material online that will help you figure out how to do various tasks on the command line. Commands you may need to know today:\n",
    "\n",
    "* `ls`: lists the contents of the current directory.\n",
    "* `pwd`: prints the path of the current directory.\n",
    "* `cd <directory>`: changes your current directory to the specified directory.\n",
    "* `cd ..`: changes current directory to the previous directory. Basically steps out of the current directory to the directory containing the current directory.\n",
    "* `mkdir <directory>`: create a new directory with the specified name.\n",
    "* `rmdir <directory>`: removes the specified directory. Note it has to be empty.\n",
    "* `rm <filename>`: deletes the specified file.\n",
    "* `mv <filename 1> <filename 1>`: Moves or renames a file.\n",
    "* `cp <filename 1> <filename 2>`: copies an file. If you just provide a path to a directory, it copies the file into that directory with the same filename. If you specifiy a new filename, the copy has a new name. For example `cp File.1.txt File.2.txt` creates a copy of `File.1.txt` with the name `File.2.txt`. Meanwhile `cp File.1.txt my_directory`, where `my_directory` is a directory, creates a copy of `File.1.txt` in directory `my_directory` with the name `File.1.txt`.\n",
    "\n",
    "For reference, here are some example resources I found by googling:\n",
    "\n",
    "* Paths and Wildcards: https://www.warp.dev/terminus/linux-wildcards\n",
    "* Basic commands like copy: https://kb.iu.edu/d/afsk\n",
    "* General introduction to shell: https://github-pages.ucl.ac.uk/RCPSTrainingMaterials/HPCandHTCusingLegion/2_intro_to_shell.html\n",
    "* Manual pages: https://www.geeksforgeeks.org/linux-man-page-entries-different-types/?ref=ml_lbp\n",
    "* Chaining commands: https://www.geeksforgeeks.org/chaining-commands-in-linux/?ref=ml_lbp\n",
    "* Piping: https://www.geeksforgeeks.org/piping-in-unix-or-linux/\n",
    "* Using sed: https://www.geeksforgeeks.org/sed-command-linux-set-2/?ref=ml_lbp\n",
    "* Various Unix commands: https://www.geeksforgeeks.org/linux-commands/?ref=lbp\n",
    "* Cheat sheets:\n",
    "    * https://www.stationx.net/unix-commands-cheat-sheet/\n",
    "    * https://cheatography.com/davechild/cheat-sheets/linux-command-line/\n",
    "    * https://www.theknowledgeacademy.com/blog/unix-commands-cheat-sheet/\n",
    "    \n",
    "These aren't necessarily the best resources. Feel free to search for better ones. Also, don't forget that Unix has built-in manual pages for all of its commands. Just type `man <command>` at the command prompt. Use the space-bar to scroll through the documentation and \"q\" to exit.\n",
    "\n",
    "\n",
    "### Setup and Submission\n",
    "\n",
    "Our course repository is public. The instructions here aim to have you setup a fork of the course repository. Unfortunately because you are forking a public repo, your fork will have to be public also. \n",
    "\n",
    "You should be familiar with git from the first semester of this course. I assume that you all have github accounts and have setup things to be able to [push to github using ssh](https://docs.github.com/en/github/authenticating-to-github/connecting-to-github-with-ssh). The instuctions here lead you to:\n",
    "\n",
    "We'll overview what you will do before going through step by step instructions.\n",
    "\n",
    "1. Setup:\n",
    "    1. Fork the class repository. Some directions in [fork-a-repo](https://docs.github.com/en/github/getting-started-with-github/fork-a-repo).\n",
    "    1. Create a directory on your personal system where you will keep all course materials.\n",
    "    1. In that directory, clone your fork of the repository.\n",
    "    1. Using `git remote`, set the upstream to be the class repo, so you can pull from the class and push to your fork.\n",
    "\n",
    "1. Submission:\n",
    "    1. Copy your solutions into the appropriate directory (e.g. into `Labs/Lab.2/`) and with appropriate filename `Lab.2.solution.ipynb'.\n",
    "    1. Commit / push your solutions.\n",
    "    1. Grant access to course instructors.\n",
    "\n",
    "Below are step by step instructions with examples (including example directory naming convention). Feel free to modify things as you see fit. \n",
    "\n",
    "#### Setup\n",
    "You should only need to follow this instructions once. Here are some useful git commands:\n",
    "\n",
    "* Git help: `git help`\n",
    "* Git remote help: `git help remote`\n",
    "* Check remote status: `git remote -v`\n",
    "* Add a remote: `git remote add <stream name> <repo URL>`\n",
    "* Add a remove: `git remote remove <stream name>`\n",
    "\n",
    "Steps:\n",
    "1. In a browser, log into GitHub and navigate to the [course repository](https://github.com/UTA-DataScience/DATA3402.Fall.2024).\n",
    "1. On the top right of the page, press the fork button to create a new fork into your own GitHub account.\n",
    "1. After successful fork, you should find the browser showing your fork of the course repository. Use the green \"Code\" button to copy path to the repo into your the clipboard of your computer.\n",
    "1. Open a shell on your personal computer.\n",
    "1. If you have not done so already, create a new directory/folder where you will keep all course material to navigate to it. For example: `mkdir Data-3402` and `cd Data-3402`.\n",
    "1. Clone your fork of the repository using `git clone` followed by the path you copied into your clipboard. (copy/paste)\n",
    "1. Paste the URL to your fork in the worksheet for the TAs and instructors.\n",
    "1. Now go into the directory of your clone (`cd DATA3402.Fall.2024`).\n",
    "1. Type `git remote -v` to see the current setup for fetch and pull.\n",
    "1. Note the URL you see. This should be the same as what you used for your clone for both push and fetch.\n",
    "1. Delete the origin remote using `git remote remove origin`.\n",
    "1. Add the course repo as your remote using `git remote add origin https://github.com/UTA-DataScience/DATA3402.Fall.2024.git`.\n",
    "1. Change the push to point to your fork. This means you will need the URL to your clone we copied earlier and confirmed as the original origin. The command will look something like: `git remote set-url --push origin  https://github.com/XXXXXX/DATA3402.Fall.2024.git`, where XXXXX is your username on GitHub.\n",
    "1. Note that if you setup everything correctly, you now should be able to do `git pull` to get updates from the course repo, and do `git push` to push your commits into your own fork.\n",
    "\n",
    "### Submission\n",
    "These instructions outline how you submit files. Some useful commands:\n",
    "* To add a file to local repository: `git add <file>`.\n",
    "* To commit all changed files into local repository: `git -a -m \"A message\"`. You need to provide some comment when you commit. \n",
    "* To push the commited files from the local repository to GitHub: `git push`.\n",
    "* To get updates from GitHub: `git pull`.\n",
    "\n",
    "Steps:\n",
    "1. To submit your labs, navigate to your clone of your fork of the course repository. \n",
    "1. Use `git pull` to make sure you have the latest updates. \n",
    "1. Make sure your copy of the lab your are working on is in the appropriate place in this clone. That means if you have the file elsewhere, copy it to the same directory in your clone of your fork. \n",
    "1. Note that in order to avoid future conflicts, you should always name your solution differently than the original file in the class repo. For example if your file is still named `Lab.2.ipynb` you should rename it using the `mv` command: `mv Lab.2.ipynb Lab.2.solution.ipynb`. \n",
    "1. Add and files you wish to submit into the repo. For example: `git add Labs/Lab.2/Lab.2.solution.ipynb`\n",
    "1. Commit any changes: `git commit -a -m \"Lab 2 updates\"`\n",
    "1. Push your changes: `git push`\n",
    "1. Check on github website that your solutions have been properly submitted.\n",
    "\n",
    "Before you leave the session today, make sure your GitHub Repo is setup. If you need to work further on your lab, navigate jupyter to the copy of the lab you just submitted and work there. Once done, repeat the commit and push commands to submit your updated solution. Note that lab 2 is due by midnight Monday 9/8/2024.\n"
   ]
  },
  {
   "cell_type": "markdown",
   "metadata": {},
   "source": [
    "### Uniform Distribution\n",
    "Lets start with generating some fake random data. You can get a random number between 0 and 1 using the python random module as follow:"
   ]
  },
  {
   "cell_type": "code",
   "execution_count": 2,
   "metadata": {},
   "outputs": [
    {
     "name": "stdout",
     "output_type": "stream",
     "text": [
      "The Value of x is 0.14713774761682963\n"
     ]
    }
   ],
   "source": [
    "import random\n",
    "x=random.random()\n",
    "print(\"The Value of x is\", x)"
   ]
  },
  {
   "cell_type": "markdown",
   "metadata": {},
   "source": [
    "Everytime you call random, you will get a new number.\n",
    "\n",
    "*Exercise 1:* Using random, write a function `generate_uniform(N, mymin, mymax)`, that returns a python list containing N random numbers between specified minimum and maximum value. Note that you may want to quickly work out on paper how to turn numbers between 0 and 1 to between other values. "
   ]
  },
  {
   "cell_type": "code",
   "execution_count": 3,
   "metadata": {},
   "outputs": [],
   "source": [
    "# Skeleton\n",
    "def generate_uniform(N,x_min,x_max):\n",
    "    out = []\n",
    "    ### BEGIN SOLUTION\n",
    "    for _ in range(N):\n",
    "        x=random.random()\n",
    "        new_num = (x_max-x_min)*x + x_min\n",
    "        out.append(new_num)\n",
    "    # Fill in your solution here        \n",
    "    \n",
    "    ### END SOLUTION\n",
    "    return out"
   ]
  },
  {
   "cell_type": "code",
   "execution_count": 4,
   "metadata": {},
   "outputs": [
    {
     "name": "stdout",
     "output_type": "stream",
     "text": [
      "Data Type: <class 'list'>\n",
      "Data Length: 1000\n",
      "Type of Data Contents: <class 'float'>\n",
      "Data Minimum: -9.981859342803254\n",
      "Data Maximum: 9.961767892465307\n"
     ]
    }
   ],
   "source": [
    "# Test your solution here\n",
    "data=generate_uniform(1000,-10,10)\n",
    "print (\"Data Type:\", type(data))\n",
    "print (\"Data Length:\", len(data))\n",
    "if len(data)>0: \n",
    "    print (\"Type of Data Contents:\", type(data[0]))\n",
    "    print (\"Data Minimum:\", min(data))\n",
    "    print (\"Data Maximum:\", max(data))"
   ]
  },
  {
   "cell_type": "markdown",
   "metadata": {},
   "source": [
    "*Exercise 2a:* \n",
    "Write a function that computes the mean of values in a list. Recall the equation for the mean of a random variable $\\bf{x}$ computed on a data set of $n$ values $\\{ x_i \\} = \\{x_1, x_2, ..., x_n\\}$  is ${\\bf\\bar{x}} = \\frac{1}{n} \\sum_i^n x_i$."
   ]
  },
  {
   "cell_type": "code",
   "execution_count": 5,
   "metadata": {},
   "outputs": [],
   "source": [
    "# Skeleton\n",
    "def mean(Data_1):\n",
    "    m=0.\n",
    "    val_sum = 0\n",
    "    ### BEGIN SOLUTION\n",
    "    for _ in Data_1:\n",
    "        val_sum += _\n",
    "    m = val_sum/len(Data_1)\n",
    "    # Fill in your solution here        \n",
    "    \n",
    "    ### END SOLUTION\n",
    "    \n",
    "    return m\n",
    "\n",
    "\n"
   ]
  },
  {
   "cell_type": "code",
   "execution_count": 6,
   "metadata": {},
   "outputs": [
    {
     "name": "stdout",
     "output_type": "stream",
     "text": [
      "Mean of Data: -0.025691140857713048\n"
     ]
    }
   ],
   "source": [
    "# Test your solution here\n",
    "print (\"Mean of Data:\", mean(data))"
   ]
  },
  {
   "cell_type": "markdown",
   "metadata": {},
   "source": [
    "*Exercise 2b:* \n",
    "Write a function that computes the variance of values in a list. Recall the equation for the variance of a random variable $\\bf{x}$ computed on a data set of $n$ values $\\{ x_i \\} = \\{x_1, x_2, ..., x_n\\}$  is ${\\bf\\langle x \\rangle} = \\frac{1}{n} \\sum_i^n (x_i - {\\bf\\bar{x}})$."
   ]
  },
  {
   "cell_type": "code",
   "execution_count": 7,
   "metadata": {},
   "outputs": [],
   "source": [
    "# Skeleton\n",
    "def variance(Data, mean):\n",
    "    m=0.\n",
    "    var_sum = 0\n",
    "    ### BEGIN SOLUTION\n",
    "    for _ in Data:\n",
    "        var_sum += (_ - mean)\n",
    "    m = var_sum/len(Data)\n",
    "        \n",
    "    # Fill in your solution here        \n",
    "    \n",
    "    ### END SOLUTION\n",
    "    \n",
    "    return m"
   ]
  },
  {
   "cell_type": "code",
   "execution_count": 8,
   "metadata": {},
   "outputs": [
    {
     "name": "stdout",
     "output_type": "stream",
     "text": [
      "Variance of Data: 2.3003821070233244e-16\n"
     ]
    }
   ],
   "source": [
    "# Test your solution here\n",
    "print (\"Variance of Data:\", variance(data, mean(data)))"
   ]
  },
  {
   "cell_type": "markdown",
   "metadata": {},
   "source": [
    "## Histogramming"
   ]
  },
  {
   "cell_type": "markdown",
   "metadata": {},
   "source": [
    "*Exercise 3:* Write a function that bins the data so that you can create a histogram. An example of how to implement histogramming is the following logic:\n",
    "\n",
    "* User inputs a list of values `x` and optionally `n_bins` which defaults to 10.\n",
    "* If not supplied, find the minimum and maximum (`x_min`,`x_max`) of the values in x.\n",
    "* Determine the bin size (`bin_size`) by dividing the range of the function by the number of bins.\n",
    "* Create an empty list of zeros of size `n_bins`, call it `hist`.\n",
    "* Loop over the values in `x`\n",
    "    * Loop over the values in `hist` with index `i`:\n",
    "        * If x is between `x_min+i*bin_size` and `x_min+(i+1)*bin_size`, increment `hist[i].` \n",
    "        * For efficiency, try to use continue to goto the next bin and data point.\n",
    "* Return `hist` and the list corresponding of the bin edges (i.e. of `x_min+i*bin_size`).    "
   ]
  },
  {
   "cell_type": "code",
   "execution_count": 9,
   "metadata": {},
   "outputs": [],
   "source": [
    "# Solution\n",
    "def histogram(data,n_bins=10,x_min=None,x_max=None):\n",
    "    ### BEGIN SOLUTION\n",
    "    if x_min==None:\n",
    "        x_min=min(data)\n",
    "    if x_max==None:\n",
    "        x_max=max(data)\n",
    "    bin_size = (x_max-x_min)/n_bins    \n",
    "\n",
    "    hist=[0]*n_bins\n",
    "    bin_edges = [x_min + i * bin_size for i in range(n_bins + 1)]\n",
    "    \n",
    "    for d in data:\n",
    "        for i in range(n_bins):\n",
    "            if d>=bin_edges[i] and d<bin_edges[i+1]:\n",
    "                hist[i] += 1\n",
    "                continue\n",
    "    # Fill in your solution here        \n",
    "    \n",
    "    ### END SOLUTION\n",
    "\n",
    "    return hist,bin_edges"
   ]
  },
  {
   "cell_type": "code",
   "execution_count": 10,
   "metadata": {},
   "outputs": [
    {
     "name": "stdout",
     "output_type": "stream",
     "text": [
      "[11, 11, 11, 9, 10, 14, 13, 12, 12, 5, 8, 14, 7, 13, 11, 10, 13, 6, 8, 11, 5, 10, 9, 7, 8, 14, 9, 11, 11, 3, 13, 7, 8, 9, 11, 12, 10, 10, 12, 15, 6, 8, 10, 11, 11, 9, 12, 8, 7, 11, 11, 11, 22, 10, 7, 5, 10, 10, 15, 13, 8, 7, 12, 10, 12, 10, 6, 8, 11, 5, 11, 7, 8, 9, 9, 9, 13, 11, 10, 11, 8, 14, 8, 16, 6, 5, 9, 7, 19, 7, 11, 9, 13, 11, 5, 8, 10, 12, 10, 14]\n"
     ]
    },
    {
     "data": {
      "text/plain": [
       "([60, 53, 49, 40, 46, 52, 52, 50, 46, 55],\n",
       " [0.0, 1.0, 2.0, 3.0, 4.0, 5.0, 6.0, 7.0, 8.0, 9.0, 10.0])"
      ]
     },
     "execution_count": 10,
     "metadata": {},
     "output_type": "execute_result"
    }
   ],
   "source": [
    "# Test your solution here\n",
    "h,b=histogram(data,100)\n",
    "print(h)\n",
    "histogram(data,10,0,10)"
   ]
  },
  {
   "cell_type": "markdown",
   "metadata": {},
   "source": [
    "*Exercise 4:* Write a function that uses the histogram function in the previous exercise to create a text-based \"graph\". For example the output could look like the following:\n",
    "```\n",
    "[  0,  1] : ######\n",
    "[  1,  2] : #####\n",
    "[  2,  3] : ######\n",
    "[  3,  4] : ####\n",
    "[  4,  5] : ####\n",
    "[  5,  6] : ######\n",
    "[  6,  7] : #####\n",
    "[  7,  8] : ######\n",
    "[  8,  9] : ####\n",
    "[  9, 10] : #####\n",
    "```\n",
    "\n",
    "Where each line corresponds to a bin and the number of `#`'s are proportional to the value of the data in the bin. "
   ]
  },
  {
   "cell_type": "code",
   "execution_count": 11,
   "metadata": {},
   "outputs": [],
   "source": [
    "# Solution\n",
    "def draw_histogram(x,n_bins=10,x_min=None,x_max=None,character=\"#\",max_character_per_line=20):\n",
    "    ### BEGIN SOLUTION\n",
    "    if x_min==None:\n",
    "        x_min=min(data)\n",
    "    if x_max==None:\n",
    "        x_max=max(data)\n",
    "    bin_size = (x_max-x_min)/n_bins    \n",
    "\n",
    "    hist=[0]*n_bins\n",
    "    bin_edges = [x_min + i * bin_size for i in range(n_bins + 1)]\n",
    "    \n",
    "    for d in data:\n",
    "        for i in range(n_bins):\n",
    "            if d>=bin_edges[i] and d<bin_edges[i+1]:\n",
    "                hist[i] += 1\n",
    "                continue\n",
    "                \n",
    "    max_count = max(hist)\n",
    "\n",
    "    for i in range(n_bins):\n",
    "        bin_start = bin_edges[i]\n",
    "        bin_end = bin_edges[i + 1]\n",
    "        \n",
    "        if max_count > 0:\n",
    "            num_chars = int((hist[i] / max_count) * max_character_per_line)\n",
    "        else:\n",
    "            num_chars = 0\n",
    "        \n",
    "        bar = character * num_chars\n",
    "        \n",
    "        print(f\"[{bin_start: .2f}, {bin_end: .2f}] : {bar}\")\n",
    "\n",
    "        \n",
    "    # Fill in your solution here        \n",
    "    \n",
    "    ### END SOLUTION\n",
    "\n",
    "    return hist,bin_edges"
   ]
  },
  {
   "cell_type": "code",
   "execution_count": 12,
   "metadata": {},
   "outputs": [
    {
     "name": "stdout",
     "output_type": "stream",
     "text": [
      "[ 0.00,  1.00] : ####################\n",
      "[ 1.00,  2.00] : #################\n",
      "[ 2.00,  3.00] : ################\n",
      "[ 3.00,  4.00] : #############\n",
      "[ 4.00,  5.00] : ###############\n",
      "[ 5.00,  6.00] : #################\n",
      "[ 6.00,  7.00] : #################\n",
      "[ 7.00,  8.00] : ################\n",
      "[ 8.00,  9.00] : ###############\n",
      "[ 9.00,  10.00] : ##################\n"
     ]
    },
    {
     "data": {
      "text/plain": [
       "([60, 53, 49, 40, 46, 52, 52, 50, 46, 55],\n",
       " [0.0, 1.0, 2.0, 3.0, 4.0, 5.0, 6.0, 7.0, 8.0, 9.0, 10.0])"
      ]
     },
     "execution_count": 12,
     "metadata": {},
     "output_type": "execute_result"
    }
   ],
   "source": [
    "# Test your solution here\n",
    "draw_histogram(data,10, 0 ,10)\n"
   ]
  },
  {
   "cell_type": "markdown",
   "metadata": {},
   "source": [
    "## Functional Programming\n",
    "\n",
    "*Exercise 5:* Write a function the applies a booling function (that returns true/false) to every element in data, and return a list of indices of elements where the result was true. Use this function to find the indices of entries greater than 0.5. "
   ]
  },
  {
   "cell_type": "code",
   "execution_count": 13,
   "metadata": {},
   "outputs": [],
   "source": [
    "def where(mylist,myfunc):\n",
    "    out= []\n",
    "    \n",
    "    ### BEGIN SOLUTION\n",
    "    for i, value in enumerate(mylist):\n",
    "        if myfunc(value):\n",
    "            out.append(i)\n",
    "    # Fill in your solution here        \n",
    "    \n",
    "    ### END SOLUTION\n",
    "    \n",
    "    return out"
   ]
  },
  {
   "cell_type": "code",
   "execution_count": 14,
   "metadata": {},
   "outputs": [
    {
     "name": "stdout",
     "output_type": "stream",
     "text": [
      "[2, 5, 6, 7, 8, 9, 11, 12, 13, 15, 17, 20, 21, 23, 26, 28, 29, 30, 37, 38, 39, 40, 41, 43, 45, 50, 58, 61, 62, 64, 66, 68, 74, 75, 76, 78, 81, 83, 84, 85, 86, 88, 91, 94, 95, 96, 98, 106, 108, 113, 115, 116, 118, 119, 125, 126, 127, 128, 131, 132, 135, 139, 140, 144, 146, 147, 148, 150, 153, 154, 155, 156, 160, 161, 162, 167, 170, 173, 175, 177, 178, 180, 181, 182, 184, 186, 191, 193, 195, 196, 197, 198, 199, 201, 204, 206, 207, 208, 210, 212, 214, 216, 219, 221, 223, 224, 225, 226, 227, 233, 234, 235, 237, 239, 241, 242, 243, 244, 245, 249, 255, 256, 260, 262, 265, 266, 269, 271, 278, 281, 286, 288, 290, 291, 293, 296, 298, 299, 301, 302, 304, 307, 309, 310, 312, 316, 321, 322, 324, 325, 326, 328, 331, 333, 335, 336, 337, 338, 340, 341, 342, 344, 345, 346, 349, 351, 352, 353, 355, 357, 361, 362, 363, 364, 365, 371, 372, 375, 376, 378, 380, 381, 382, 383, 384, 387, 388, 391, 392, 393, 396, 397, 398, 399, 401, 402, 404, 406, 408, 409, 414, 415, 416, 417, 419, 420, 422, 424, 425, 428, 429, 430, 435, 441, 442, 443, 446, 447, 450, 452, 453, 455, 458, 460, 461, 462, 463, 465, 466, 468, 470, 473, 477, 481, 486, 490, 492, 493, 496, 499, 501, 504, 505, 509, 511, 512, 514, 516, 517, 518, 519, 524, 526, 528, 529, 530, 531, 533, 534, 536, 537, 539, 540, 541, 543, 546, 549, 551, 553, 554, 555, 559, 561, 562, 564, 567, 569, 570, 571, 574, 577, 583, 584, 586, 587, 589, 592, 601, 603, 604, 605, 609, 612, 614, 617, 619, 622, 626, 629, 631, 638, 641, 642, 643, 647, 649, 651, 652, 654, 655, 656, 657, 658, 659, 664, 665, 667, 668, 673, 676, 682, 683, 684, 685, 690, 691, 693, 695, 696, 697, 698, 699, 700, 704, 708, 710, 711, 714, 715, 717, 718, 719, 720, 721, 723, 724, 728, 732, 733, 734, 743, 744, 748, 750, 751, 753, 754, 756, 766, 769, 770, 773, 777, 779, 780, 784, 787, 791, 793, 794, 795, 796, 797, 800, 801, 803, 804, 807, 809, 811, 813, 815, 818, 819, 820, 821, 823, 826, 828, 829, 833, 834, 836, 837, 838, 841, 844, 849, 853, 855, 856, 857, 860, 861, 865, 867, 868, 869, 870, 872, 873, 874, 875, 876, 877, 880, 881, 883, 884, 885, 888, 890, 891, 894, 898, 900, 901, 903, 905, 908, 909, 913, 916, 917, 918, 919, 923, 924, 928, 929, 930, 935, 936, 938, 939, 942, 943, 945, 950, 953, 956, 957, 959, 960, 961, 965, 966, 971, 972, 973, 978, 979, 981, 982, 984, 987, 989, 990, 994, 997, 999]\n"
     ]
    }
   ],
   "source": [
    "# Test your solution here\n",
    "\n",
    "def test_func(x):\n",
    "    return x > 0.5\n",
    "\n",
    "indices_greater_than_0_5 = where(data, test_func)\n",
    "print(indices_greater_than_0_5)"
   ]
  },
  {
   "cell_type": "markdown",
   "metadata": {},
   "source": [
    "*Exercise 6:* The `inrange(mymin,mymax)` function below returns a function that tests if it's input is between the specified values. Write corresponding functions that test:\n",
    "* Even\n",
    "* Odd\n",
    "* Greater than\n",
    "* Less than\n",
    "* Equal\n",
    "* Divisible by"
   ]
  },
  {
   "cell_type": "code",
   "execution_count": 15,
   "metadata": {},
   "outputs": [
    {
     "name": "stdout",
     "output_type": "stream",
     "text": [
      "True True False False False\n",
      "False False True True False\n",
      "Number of Entries passing F1: 503\n",
      "Number of Entries passing F2: 0\n"
     ]
    }
   ],
   "source": [
    "def in_range(mymin,mymax):\n",
    "    def testrange(x):\n",
    "        return x<mymax and x>=mymin\n",
    "    return testrange\n",
    "\n",
    "# Examples:\n",
    "F1=in_range(0,10)\n",
    "F2=in_range(10,20)\n",
    "\n",
    "# Test of in_range\n",
    "print (F1(0), F1(1), F1(10), F1(15), F1(20))\n",
    "print (F2(0), F2(1), F2(10), F2(15), F2(20))\n",
    "\n",
    "print (\"Number of Entries passing F1:\", len(where(data,F1)))\n",
    "print (\"Number of Entries passing F2:\", len(where(data,F2)))"
   ]
  },
  {
   "cell_type": "code",
   "execution_count": 16,
   "metadata": {},
   "outputs": [],
   "source": [
    "### BEGIN SOLUTION\n",
    "def is_even():\n",
    "    def test_even(x):\n",
    "        return x % 2 == 0\n",
    "    return test_even\n",
    "    \n",
    "def is_odd():\n",
    "    def test_odd(x):\n",
    "        return x % 2 != 0\n",
    "    return test_odd\n",
    "    \n",
    "def is_greater(x):\n",
    "    def test_greater(n):\n",
    "        return n > x\n",
    "    return test_greater\n",
    "    \n",
    "def is_less(x):\n",
    "    def test_less( n):\n",
    "        return n < x\n",
    "    return test_less\n",
    "    \n",
    "def is_equal(x):\n",
    "    def test_equal(n):\n",
    "        return x == n\n",
    "    return test_equal\n",
    "    \n",
    "def is_div_by(x):\n",
    "    def test_div_by(n):\n",
    "        return x % n == 0\n",
    "    return test_div_by\n",
    "    # Fill in your solution here        \n",
    "    \n",
    "### END SOLUTION"
   ]
  },
  {
   "cell_type": "code",
   "execution_count": 17,
   "metadata": {},
   "outputs": [
    {
     "name": "stdout",
     "output_type": "stream",
     "text": [
      "True\n",
      "True\n",
      "True\n",
      "False\n",
      "False\n",
      "False\n"
     ]
    }
   ],
   "source": [
    "# Test your solution\n",
    "F3=is_even()\n",
    "F4=is_odd()\n",
    "F5 = is_greater(5)\n",
    "F6 = is_less(3)\n",
    "F7 = is_equal(7)\n",
    "F8 = is_div_by(2)\n",
    "\n",
    "# Test of in_range\n",
    "print (F3(8))\n",
    "print (F4(7))\n",
    "print (F5(6))\n",
    "print (F6(5))\n",
    "print (F7(4))\n",
    "print (F8(3))\n",
    "\n"
   ]
  },
  {
   "cell_type": "markdown",
   "metadata": {},
   "source": [
    "*Exercise 7:* Repeat the previous exercise using `lambda` and the built-in python functions sum and map instead of your solution above. "
   ]
  },
  {
   "cell_type": "code",
   "execution_count": 18,
   "metadata": {},
   "outputs": [],
   "source": [
    "### BEGIN SOLUTION\n",
    "def is_even():\n",
    "    return lambda x: x % 2 == 0\n",
    "    \n",
    "def is_odd():\n",
    "    return lambda x: x % 2 != 0\n",
    "    \n",
    "def is_greater(x):\n",
    "    return lambda n: n > x\n",
    "    \n",
    "def is_less(x):\n",
    "    return lambda n: n < x\n",
    "    \n",
    "def is_equal(x):\n",
    "    return lambda n: n == x\n",
    "    \n",
    "def is_div_by(x):\n",
    "    return lambda n: n % x == 0\n",
    "    # Fill in your solution here        \n",
    "    \n",
    "### END SOLUTION"
   ]
  },
  {
   "cell_type": "markdown",
   "metadata": {},
   "source": [
    "## Monte Carlo\n",
    "\n",
    "*Exercise 7:* Write a \"generator\" function called `generate_function(func,x_min,x_max,N)`, that instead of generating a flat distribution, generates a distribution with functional form coded in `func`. Note that `func` will always be > 0.  \n",
    "\n",
    "Use the test function below and your histogramming functions above to demonstrate that your generator is working properly.\n",
    "\n",
    "Hint: A simple, but slow, solution is to a draw random number `test_x` within the specified range and another number `p` between the `min` and `max` of the function (which you will have to determine). If `p<=function(test_x)`, then place `test_x` on the output. If not, repeat the process, drawing two new numbers. Repeat until you have the specified number of generated numbers, `N`. For this problem, it's OK to determine the `min` and `max` by numerically sampling the function.  "
   ]
  },
  {
   "cell_type": "code",
   "execution_count": 19,
   "metadata": {},
   "outputs": [],
   "source": [
    "def generate_function(func,x_min,x_max,N=1000):\n",
    "    out = list()\n",
    "    ### BEGIN SOLUTION\n",
    "    num_samples = 10000\n",
    "    sample_values = [func(random.uniform(x_min, x_max)) for _ in range(num_samples)]\n",
    "    func_max = max(sample_values)  \n",
    "\n",
    "    while len(out) < N:\n",
    "        test_x = random.uniform(x_min, x_max)  \n",
    "        p = random.uniform(0, func_max)        \n",
    "        \n",
    "        if p <= func(test_x):  \n",
    "            out.append(test_x)\n",
    "            \n",
    "    # Fill in your solution here        \n",
    "    \n",
    "    ### END SOLUTION\n",
    "    \n",
    "    return out"
   ]
  },
  {
   "cell_type": "code",
   "execution_count": 20,
   "metadata": {},
   "outputs": [
    {
     "name": "stdout",
     "output_type": "stream",
     "text": [
      "[ 0.00,  1.00] : ####################\n",
      "[ 1.00,  2.00] : #################\n",
      "[ 2.00,  3.00] : ################\n",
      "[ 3.00,  4.00] : #############\n",
      "[ 4.00,  5.00] : ###############\n",
      "[ 5.00,  6.00] : #################\n",
      "[ 6.00,  7.00] : #################\n",
      "[ 7.00,  8.00] : ################\n",
      "[ 8.00,  9.00] : ###############\n",
      "[ 9.00,  10.00] : ##################\n"
     ]
    },
    {
     "data": {
      "text/plain": [
       "([60, 53, 49, 40, 46, 52, 52, 50, 46, 55],\n",
       " [0.0, 1.0, 2.0, 3.0, 4.0, 5.0, 6.0, 7.0, 8.0, 9.0, 10.0])"
      ]
     },
     "execution_count": 20,
     "metadata": {},
     "output_type": "execute_result"
    }
   ],
   "source": [
    "# A test function\n",
    "def test_func(x,a=1,b=1):\n",
    "    return abs(a*x+b)\n",
    "\n",
    "gen_vals = generate_function(test_func, 0, 10, 1000)\n",
    "\n",
    "draw_histogram(gen_vals, 10, 0, 10)"
   ]
  },
  {
   "cell_type": "markdown",
   "metadata": {},
   "source": [
    "*Exercise 8:* Use your function to generate 1000 numbers that are normal distributed, using the `gaussian` function below. Confirm the mean and variance of the data is close to the mean and variance you specify when building the Gaussian. Histogram the data. "
   ]
  },
  {
   "cell_type": "code",
   "execution_count": 21,
   "metadata": {},
   "outputs": [
    {
     "name": "stdout",
     "output_type": "stream",
     "text": [
      "Mean of Data: 0.013096307894960767\n",
      "Variance of Data: -1.1737832927849468e-16\n",
      "[-9.98, -8.98] : #################\n",
      "[-8.98, -7.99] : ##################\n",
      "[-7.99, -6.99] : #################\n",
      "[-6.99, -5.99] : ###############\n",
      "[-5.99, -5.00] : ############\n",
      "[-5.00, -4.00] : ###############\n",
      "[-4.00, -3.00] : ###############\n",
      "[-3.00, -2.00] : ###################\n",
      "[-2.00, -1.01] : ###############\n",
      "[-1.01, -0.01] : ###############\n",
      "[-0.01,  0.99] : ####################\n",
      "[ 0.99,  1.98] : #################\n",
      "[ 1.98,  2.98] : ################\n",
      "[ 2.98,  3.98] : #############\n",
      "[ 3.98,  4.98] : ##############\n",
      "[ 4.98,  5.97] : #################\n",
      "[ 5.97,  6.97] : #################\n",
      "[ 6.97,  7.97] : ###############\n",
      "[ 7.97,  8.96] : ################\n",
      "[ 8.96,  9.96] : #################\n"
     ]
    },
    {
     "data": {
      "text/plain": [
       "([52,\n",
       "  56,\n",
       "  53,\n",
       "  48,\n",
       "  39,\n",
       "  48,\n",
       "  48,\n",
       "  59,\n",
       "  46,\n",
       "  47,\n",
       "  61,\n",
       "  53,\n",
       "  49,\n",
       "  40,\n",
       "  44,\n",
       "  54,\n",
       "  52,\n",
       "  47,\n",
       "  49,\n",
       "  54],\n",
       " [-9.981859342803254,\n",
       "  -8.984677981039827,\n",
       "  -7.987496619276398,\n",
       "  -6.99031525751297,\n",
       "  -5.993133895749542,\n",
       "  -4.995952533986114,\n",
       "  -3.9987711722226855,\n",
       "  -3.001589810459258,\n",
       "  -2.0044084486958296,\n",
       "  -1.0072270869324011,\n",
       "  -0.010045725168973618,\n",
       "  0.9871356365944539,\n",
       "  1.9843169983578832,\n",
       "  2.9814983601213108,\n",
       "  3.9786797218847383,\n",
       "  4.975861083648168,\n",
       "  5.973042445411595,\n",
       "  6.970223807175024,\n",
       "  7.967405168938452,\n",
       "  8.96458653070188,\n",
       "  9.961767892465307])"
      ]
     },
     "execution_count": 21,
     "metadata": {},
     "output_type": "execute_result"
    }
   ],
   "source": [
    "import math\n",
    "\n",
    "def gaussian(mean, sigma):\n",
    "    def f(x):\n",
    "        return math.exp(-((x-mean)**2)/(2*sigma**2))/math.sqrt(math.pi*sigma)\n",
    "    return f\n",
    "\n",
    "# Example Instantiation\n",
    "g1=gaussian(0,1)\n",
    "g2=gaussian(10,3)\n",
    "\n",
    "gen_vals2 = generate_function(g1, -4, 4, 1000)\n",
    "print (\"Mean of Data:\", mean(gen_vals2))\n",
    "print (\"Variance of Data:\", variance(gen_vals2, mean(gen_vals2)))\n",
    "draw_histogram(gen_vals2, 20)\n"
   ]
  },
  {
   "cell_type": "markdown",
   "metadata": {},
   "source": [
    "*Exercise 9:* Combine your `generate_function`, `where`, and `in_range` functions above to create an integrate function. Use your integrate function to show that approximately 68% of Normal distribution is within one variance."
   ]
  },
  {
   "cell_type": "code",
   "execution_count": null,
   "metadata": {},
   "outputs": [],
   "source": [
    "def integrate(func, x_min, x_max, n_points=1000):\n",
    "    \n",
    "    return integral"
   ]
  },
  {
   "cell_type": "code",
   "execution_count": null,
   "metadata": {},
   "outputs": [],
   "source": []
  }
 ],
 "metadata": {
  "kernelspec": {
   "display_name": "Python 3 (ipykernel)",
   "language": "python",
   "name": "python3"
  },
  "language_info": {
   "codemirror_mode": {
    "name": "ipython",
    "version": 3
   },
   "file_extension": ".py",
   "mimetype": "text/x-python",
   "name": "python",
   "nbconvert_exporter": "python",
   "pygments_lexer": "ipython3",
   "version": "3.10.12"
  }
 },
 "nbformat": 4,
 "nbformat_minor": 4
}

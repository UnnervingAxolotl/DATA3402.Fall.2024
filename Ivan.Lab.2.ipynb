{
 "cells": [
  {
   "cell_type": "markdown",
   "metadata": {},
   "source": [
    "## Lab 2- Tic Tac Toe\n",
    "\n",
    "In this lab your will build a n x n Tic Tac Toe game. As you do the exercises, make sure your solutions work for any size Tic Tac Toe game. "
   ]
  },
  {
   "cell_type": "markdown",
   "metadata": {},
   "source": [
    "*Exercise 1:* Write a function that creates an n by n matrix (of list of lists) which will represent the state of a Tie Tac Toe game. Let 0, 1, and 2 represent empty, \"X\", and \"O\", respectively.\n"
   ]
  },
  {
   "cell_type": "code",
   "execution_count": 4,
   "metadata": {},
   "outputs": [
    {
     "data": {
      "text/plain": [
       "[[0, 0, 0], [0, 0, 0], [0, 0, 0]]"
      ]
     },
     "execution_count": 4,
     "metadata": {},
     "output_type": "execute_result"
    }
   ],
   "source": [
    "\n",
    "player_x = 1\n",
    "player_o = 2\n",
    "empty = 0\n",
    "\n",
    "# Game board size\n",
    "size = 3\n",
    "\n",
    "def make_game_board(size):\n",
    "   \n",
    "    board = [[empty]*size for i in range(size)]\n",
    "    return board \n",
    "\n",
    "\n",
    "board_test = make_game_board(size)\n",
    "board_test\n",
    "\n"
   ]
  },
  {
   "cell_type": "code",
   "execution_count": null,
   "metadata": {},
   "outputs": [],
   "source": []
  },
  {
   "cell_type": "markdown",
   "metadata": {},
   "source": [
    "*Exercise 2:* Write a function that takes 2 integers `n` and `m` as input and draws a `n` by `m` game board. For example the following is a 3x3 board:\n",
    "```\n",
    "   --- --- --- \n",
    "  |   |   |   | \n",
    "   --- --- ---  \n",
    "  |   |   |   | \n",
    "   --- --- ---  \n",
    "  |   |   |   | \n",
    "   --- --- --- \n",
    "   ```"
   ]
  },
  {
   "cell_type": "code",
   "execution_count": 5,
   "metadata": {},
   "outputs": [
    {
     "name": "stdout",
     "output_type": "stream",
     "text": [
      " --- --- ---\n",
      "|   |   |   |   \n",
      " --- --- ---\n",
      "|   |   |   |   \n",
      " --- --- ---\n",
      "|   |   |   |   \n",
      " --- --- ---\n"
     ]
    }
   ],
   "source": [
    "# Write you solution here\n",
    "def draw_game_board(n, m):\n",
    "    for i in range(n):\n",
    "        print(\" ---\" * m)\n",
    "        print(\"|   \" * (m + 1))\n",
    "    print(\" ---\" * m)\n",
    "\n",
    "n = 3\n",
    "m = 3\n",
    "draw_game_board(n, m)\n"
   ]
  },
  {
   "cell_type": "code",
   "execution_count": null,
   "metadata": {},
   "outputs": [],
   "source": [
    "# Test your solution here"
   ]
  },
  {
   "cell_type": "markdown",
   "metadata": {},
   "source": [
    "*Exercise 3:* Modify exercise 2, so that it takes a matrix of the form from exercise 1 and draws a tic-tac-tie board with \"X\"s and \"O\"s.  "
   ]
  },
  {
   "cell_type": "code",
   "execution_count": 6,
   "metadata": {},
   "outputs": [
    {
     "name": "stdout",
     "output_type": "stream",
     "text": [
      " --- --- ---\n",
      "| X | O |   |\n",
      " --- --- ---\n",
      "|   | X | O |\n",
      " --- --- ---\n",
      "| O |   | X |\n",
      " --- --- ---\n"
     ]
    },
    {
     "data": {
      "text/plain": [
       "2"
      ]
     },
     "execution_count": 6,
     "metadata": {},
     "output_type": "execute_result"
    }
   ],
   "source": [
    "\n",
    "def draw_tic_tac_toe_board(matrix):\n",
    "    n = len(matrix)\n",
    "    m = len(matrix[0])\n",
    "    \n",
    "    for i in range(n):\n",
    "        \n",
    "        print(\" ---\" * m)\n",
    "        \n",
    "        \n",
    "        row = \"|\"\n",
    "        for j in range(m):\n",
    "            if matrix[i][j] == 0:\n",
    "                row += \"   |\"\n",
    "            elif matrix[i][j] == 1:\n",
    "                row += \" X |\"\n",
    "            elif matrix[i][j] == 2:\n",
    "                row += \" O |\"\n",
    "        print(row)\n",
    "    print(\" ---\" * m)\n",
    "\n",
    "\n",
    "board = [\n",
    "    [1, 2, 0],\n",
    "    [0, 1, 2],\n",
    "    [2, 0, 1]\n",
    "]\n",
    "draw_tic_tac_toe_board(board)\n",
    "board[0][1]"
   ]
  },
  {
   "cell_type": "code",
   "execution_count": 7,
   "metadata": {},
   "outputs": [],
   "source": [
    "# Test your solution here"
   ]
  },
  {
   "cell_type": "markdown",
   "metadata": {},
   "source": [
    "*Exercise 4:* Write a function that takes a `n` by `n` matrix representing a tic-tac-toe game, and returns -1, 0, 1, or 2 indicating the game is incomplete, the game is a draw, player 1 has won, or player 2 has one, respectively. Here are some example inputs you can use to test your code:"
   ]
  },
  {
   "cell_type": "code",
   "execution_count": 8,
   "metadata": {},
   "outputs": [
    {
     "name": "stdout",
     "output_type": "stream",
     "text": [
      "-1\n",
      "1\n",
      "2\n",
      "0\n"
     ]
    }
   ],
   "source": [
    "# Write you solution here\n",
    "def check_tic_tac_toe_winner(matrix):\n",
    "    n = len(matrix)\n",
    "    \n",
    "    for i in range(n):\n",
    "        if all(matrix[i][j] == 1 for j in range(n)):\n",
    "            return 1  \n",
    "        if all(matrix[i][j] == 2 for j in range(n)):\n",
    "            return 2  \n",
    "        if all(matrix[j][i] == 1 for j in range(n)):\n",
    "            return 1  \n",
    "        if all(matrix[j][i] == 2 for j in range(n)):\n",
    "            return 2  \n",
    "    \n",
    "    if all(matrix[i][i] == 1 for i in range(n)):\n",
    "        return 1 \n",
    "    if all(matrix[i][i] == 2 for i in range(n)):\n",
    "        return 2  \n",
    "    if all(matrix[i][n - 1 - i] == 1 for i in range(n)):\n",
    "        return 1  \n",
    "    if all(matrix[i][n - 1 - i] == 2 for i in range(n)):\n",
    "        return 2  \n",
    "    \n",
    "    for i in range(n):\n",
    "        for j in range(n):\n",
    "            if matrix[i][j] == 0:\n",
    "                return -1  \n",
    "    \n",
    "    return 0\n",
    "\n",
    "\n",
    "board_incomplete = [\n",
    "    [1, 2, 0],\n",
    "    [0, 1, 2],\n",
    "    [2, 0, 0]\n",
    "]\n",
    "\n",
    "board_player1_wins = [\n",
    "    [1, 1, 1],\n",
    "    [0, 2, 0],\n",
    "    [2, 0, 2]\n",
    "]\n",
    "\n",
    "board_player2_wins = [\n",
    "    [2, 1, 1],\n",
    "    [0, 2, 0],\n",
    "    [2, 0, 2]\n",
    "]\n",
    "\n",
    "board_draw = [\n",
    "    [1, 2, 1],\n",
    "    [2, 1, 2],\n",
    "    [2, 1, 2]\n",
    "]\n",
    "\n",
    "print(check_tic_tac_toe_winner(board_incomplete))  \n",
    "print(check_tic_tac_toe_winner(board_player1_wins))  \n",
    "print(check_tic_tac_toe_winner(board_player2_wins))  \n",
    "print(check_tic_tac_toe_winner(board_draw))  \n"
   ]
  },
  {
   "cell_type": "code",
   "execution_count": null,
   "metadata": {
    "collapsed": true,
    "jupyter": {
     "outputs_hidden": true
    }
   },
   "outputs": [],
   "source": [
    "# Test your solution here"
   ]
  },
  {
   "cell_type": "code",
   "execution_count": null,
   "metadata": {
    "collapsed": true,
    "jupyter": {
     "outputs_hidden": true
    }
   },
   "outputs": [],
   "source": [
    "winner_is_2 = [[2, 2, 0],\n",
    "\t[2, 1, 0],\n",
    "\t[2, 1, 1]]\n",
    "\n",
    "winner_is_1 = [[1, 2, 0],\n",
    "\t[2, 1, 0],\n",
    "\t[2, 1, 1]]\n",
    "\n",
    "winner_is_also_1 = [[0, 1, 0],\n",
    "\t[2, 1, 0],\n",
    "\t[2, 1, 1]]\n",
    "\n",
    "no_winner = [[1, 2, 0],\n",
    "\t[2, 1, 0],\n",
    "\t[2, 1, 2]]\n",
    "\n",
    "also_no_winner = [[1, 2, 0],\n",
    "\t[2, 1, 0],\n",
    "\t[2, 1, 0]]"
   ]
  },
  {
   "cell_type": "markdown",
   "metadata": {},
   "source": [
    "*Exercise 5:* Write a function that takes a game board, player number, and `(x,y)` coordinates and places \"X\" or \"O\" in the correct location of the game board. Make sure that you only allow filling previously empty locations. Return `True` or `False` to indicate successful placement of \"X\" or \"O\"."
   ]
  },
  {
   "cell_type": "code",
   "execution_count": 9,
   "metadata": {},
   "outputs": [
    {
     "name": "stdout",
     "output_type": "stream",
     "text": [
      "True\n",
      "[[1, 2, 1], [0, 1, 2], [2, 0, 1]]\n",
      "False\n",
      "[[1, 2, 1], [0, 1, 2], [2, 0, 1]]\n"
     ]
    }
   ],
   "source": [
    "# Write you solution here\n",
    "def place_marker(board, player, x, y):\n",
    "    n = len(board)\n",
    "    \n",
    "    if x < 0 or x >= n or y < 0 or y >= n:\n",
    "        return False\n",
    "    \n",
    "    if board[x][y] == 0:\n",
    "        board[x][y] = player\n",
    "        return True\n",
    "    else:\n",
    "        return False\n",
    "\n",
    "board = [\n",
    "    [1, 2, 0],\n",
    "    [0, 1, 2],\n",
    "    [2, 0, 1]\n",
    "]\n",
    "\n",
    "\n",
    "result = place_marker(board, 1, 0, 2)  \n",
    "print(result) \n",
    "print(board)   \n",
    "\n",
    "\n",
    "result = place_marker(board, 2, 0, 1)  \n",
    "print(result) \n",
    "print(board)   "
   ]
  },
  {
   "cell_type": "code",
   "execution_count": null,
   "metadata": {
    "collapsed": true,
    "jupyter": {
     "outputs_hidden": true
    }
   },
   "outputs": [],
   "source": [
    "# Test your solution here"
   ]
  },
  {
   "cell_type": "markdown",
   "metadata": {},
   "source": [
    "*Exercise 6:* Modify Exercise 4 to show column and row labels so that players can specify location using \"A2\" or \"C1\"."
   ]
  },
  {
   "cell_type": "code",
   "execution_count": 10,
   "metadata": {},
   "outputs": [
    {
     "name": "stdout",
     "output_type": "stream",
     "text": [
      "     A   B   C  \n",
      "   --- --- ---\n",
      "1 | X | O |   |\n",
      "   --- --- ---\n",
      "2 |   | X | O |\n",
      "   --- --- ---\n",
      "3 | O |   | X |\n",
      "   --- --- ---\n"
     ]
    }
   ],
   "source": [
    "# Write you solution here\n",
    "def draw_tic_tac_toe_board_with_labels(matrix):\n",
    "    n = len(matrix)\n",
    "    column_labels = \"ABCDEFGHIJKLMNOPQRSTUVWXYZ\"  \n",
    "    \n",
    "    print(\"   \", end=\" \") \n",
    "    for col in range(n):\n",
    "        print(f\" {column_labels[col]} \", end=\" \")\n",
    "    print()  \n",
    "    \n",
    "    for i in range(n):\n",
    "        print(\"  \" + (\" ---\" * n))\n",
    "        \n",
    "        print(f\"{i+1} \", end=\"\")  \n",
    "        for j in range(n):\n",
    "            if matrix[i][j] == 0:\n",
    "                print(\"|   \", end=\"\")\n",
    "            elif matrix[i][j] == 1:\n",
    "                print(\"| X \", end=\"\")\n",
    "            elif matrix[i][j] == 2:\n",
    "                print(\"| O \", end=\"\")\n",
    "        print(\"|\")  \n",
    "    \n",
    "    print(\"  \" + (\" ---\" * n))\n",
    "\n",
    "board = [\n",
    "    [1, 2, 0],\n",
    "    [0, 1, 2],\n",
    "    [2, 0, 1]\n",
    "]\n",
    "\n",
    "draw_tic_tac_toe_board_with_labels(board)\n"
   ]
  },
  {
   "cell_type": "code",
   "execution_count": null,
   "metadata": {
    "collapsed": true,
    "jupyter": {
     "outputs_hidden": true
    }
   },
   "outputs": [],
   "source": [
    "# Test your solution here"
   ]
  },
  {
   "cell_type": "markdown",
   "metadata": {},
   "source": [
    "*Exercise 7:* Write a function that takes a board, player number, and location specified as in exercise 6 and then calls exercise 5 to correctly modify the board.  "
   ]
  },
  {
   "cell_type": "code",
   "execution_count": 11,
   "metadata": {},
   "outputs": [
    {
     "name": "stdout",
     "output_type": "stream",
     "text": [
      "True\n",
      "[[1, 2, 1], [0, 1, 2], [2, 0, 1]]\n",
      "False\n",
      "[[1, 2, 1], [0, 1, 2], [2, 0, 1]]\n",
      "False\n",
      "[[1, 2, 1], [0, 1, 2], [2, 0, 1]]\n"
     ]
    }
   ],
   "source": [
    "# Write you solution here\n",
    "def place_marker_with_labels(board, player, position):\n",
    "    n = len(board)\n",
    "    \n",
    "    row_label = position[0].upper()\n",
    "    if row_label < 'A' or row_label >= chr(ord('A') + n):\n",
    "        return False\n",
    "    \n",
    "    x = ord(row_label) - ord('A')\n",
    "    \n",
    "    if not position[1:].isdigit():\n",
    "        return False\n",
    "    \n",
    "    y = int(position[1:]) - 1\n",
    "    if y < 0 or y >= n:\n",
    "        return False\n",
    "    \n",
    "    return place_marker(board, player, x, y)\n",
    "\n",
    "board = [\n",
    "    [1, 2, 0],\n",
    "    [0, 1, 2],\n",
    "    [2, 0, 1]\n",
    "]\n",
    "\n",
    "result = place_marker_with_labels(board, 1, \"A3\")\n",
    "print(result)\n",
    "print(board)\n",
    "\n",
    "result = place_marker_with_labels(board, 2, \"B2\")\n",
    "print(result)\n",
    "print(board)\n",
    "\n",
    "result = place_marker_with_labels(board, 2, \"D1\")\n",
    "print(result)\n",
    "print(board)"
   ]
  },
  {
   "cell_type": "code",
   "execution_count": 14,
   "metadata": {},
   "outputs": [],
   "source": [
    "# Test your solution here"
   ]
  },
  {
   "cell_type": "markdown",
   "metadata": {},
   "source": [
    "*Exercise 8:* Write a function is called with a board and player number, takes input from the player using python's `input`, and modifies the board using your function from exercise 7. Note that you should keep asking for input until you have gotten a valid input that results in a valid move."
   ]
  },
  {
   "cell_type": "code",
   "execution_count": 12,
   "metadata": {},
   "outputs": [
    {
     "name": "stdin",
     "output_type": "stream",
     "text": [
      "Player 1, enter your move (e.g., 'A1', 'B3'):  A3\n"
     ]
    },
    {
     "name": "stdout",
     "output_type": "stream",
     "text": [
      "Move accepted: A3\n",
      "[[1, 2, 1], [0, 1, 2], [2, 0, 1]]\n"
     ]
    },
    {
     "name": "stdin",
     "output_type": "stream",
     "text": [
      "Player 2, enter your move (e.g., 'A1', 'B3'):  B1\n"
     ]
    },
    {
     "name": "stdout",
     "output_type": "stream",
     "text": [
      "Move accepted: B1\n",
      "[[1, 2, 1], [2, 1, 2], [2, 0, 1]]\n"
     ]
    }
   ],
   "source": [
    "# Write you solution here\n",
    "def player_move(board, player):\n",
    "    while True:\n",
    "        position = input(f\"Player {player}, enter your move (e.g., 'A1', 'B3'): \").strip()\n",
    "        \n",
    "        \n",
    "        if place_marker_with_labels(board, player, position):\n",
    "            print(f\"Move accepted: {position}\")\n",
    "            break\n",
    "        else:\n",
    "            print(\"Invalid move. Please try again.\")\n",
    "\n",
    "board = [\n",
    "    [1, 2, 0],\n",
    "    [0, 1, 2],\n",
    "    [2, 0, 1]\n",
    "]\n",
    "\n",
    "player_move(board, 1)\n",
    "print(board)\n",
    "\n",
    "player_move(board, 2)\n",
    "print(board)\n"
   ]
  },
  {
   "cell_type": "code",
   "execution_count": null,
   "metadata": {},
   "outputs": [],
   "source": [
    "# Test your solution here"
   ]
  },
  {
   "cell_type": "markdown",
   "metadata": {},
   "source": [
    "*Exercise 9:* Use all of the previous exercises to implement a full tic-tac-toe game, where an appropriate board is drawn, 2 players are repeatedly asked for a location coordinates of where they wish to place a mark, and the game status is checked until a player wins or a draw occurs."
   ]
  },
  {
   "cell_type": "code",
   "execution_count": 15,
   "metadata": {},
   "outputs": [
    {
     "name": "stdin",
     "output_type": "stream",
     "text": [
      "Enter the size of the Tic-Tac-Toe board (e.g., 3 for 3x3):  3\n"
     ]
    },
    {
     "name": "stdout",
     "output_type": "stream",
     "text": [
      "     A   B   C  \n",
      "   --- --- ---\n",
      "1 |   |   |   |\n",
      "   --- --- ---\n",
      "2 |   |   |   |\n",
      "   --- --- ---\n",
      "3 |   |   |   |\n",
      "   --- --- ---\n"
     ]
    },
    {
     "name": "stdin",
     "output_type": "stream",
     "text": [
      "Player 1, enter your move (e.g., 'A1', 'B3'):  a1\n"
     ]
    },
    {
     "name": "stdout",
     "output_type": "stream",
     "text": [
      "     A   B   C  \n",
      "   --- --- ---\n",
      "1 | X |   |   |\n",
      "   --- --- ---\n",
      "2 |   |   |   |\n",
      "   --- --- ---\n",
      "3 |   |   |   |\n",
      "   --- --- ---\n"
     ]
    },
    {
     "name": "stdin",
     "output_type": "stream",
     "text": [
      "Player 2, enter your move (e.g., 'A1', 'B3'):  a1\n"
     ]
    },
    {
     "name": "stdout",
     "output_type": "stream",
     "text": [
      "Invalid move. Please try again.\n"
     ]
    },
    {
     "name": "stdin",
     "output_type": "stream",
     "text": [
      "Player 2, enter your move (e.g., 'A1', 'B3'):  b1\n"
     ]
    },
    {
     "name": "stdout",
     "output_type": "stream",
     "text": [
      "     A   B   C  \n",
      "   --- --- ---\n",
      "1 | X |   |   |\n",
      "   --- --- ---\n",
      "2 | O |   |   |\n",
      "   --- --- ---\n",
      "3 |   |   |   |\n",
      "   --- --- ---\n"
     ]
    },
    {
     "name": "stdin",
     "output_type": "stream",
     "text": [
      "Player 1, enter your move (e.g., 'A1', 'B3'):  a2\n"
     ]
    },
    {
     "name": "stdout",
     "output_type": "stream",
     "text": [
      "     A   B   C  \n",
      "   --- --- ---\n",
      "1 | X | X |   |\n",
      "   --- --- ---\n",
      "2 | O |   |   |\n",
      "   --- --- ---\n",
      "3 |   |   |   |\n",
      "   --- --- ---\n"
     ]
    },
    {
     "name": "stdin",
     "output_type": "stream",
     "text": [
      "Player 2, enter your move (e.g., 'A1', 'B3'):  b2\n"
     ]
    },
    {
     "name": "stdout",
     "output_type": "stream",
     "text": [
      "     A   B   C  \n",
      "   --- --- ---\n",
      "1 | X | X |   |\n",
      "   --- --- ---\n",
      "2 | O | O |   |\n",
      "   --- --- ---\n",
      "3 |   |   |   |\n",
      "   --- --- ---\n"
     ]
    },
    {
     "name": "stdin",
     "output_type": "stream",
     "text": [
      "Player 1, enter your move (e.g., 'A1', 'B3'):  a3\n"
     ]
    },
    {
     "name": "stdout",
     "output_type": "stream",
     "text": [
      "     A   B   C  \n",
      "   --- --- ---\n",
      "1 | X | X | X |\n",
      "   --- --- ---\n",
      "2 | O | O |   |\n",
      "   --- --- ---\n",
      "3 |   |   |   |\n",
      "   --- --- ---\n",
      "Player 1 (X) wins!\n"
     ]
    }
   ],
   "source": [
    "\n",
    "def tic_tac_toe_game():\n",
    "    n = int(input(\"Enter the size of the Tic-Tac-Toe board (e.g., 3 for 3x3): \"))\n",
    "    board = make_game_board(n)\n",
    "    current_player = 1\n",
    "    \n",
    "    while True:\n",
    "        draw_tic_tac_toe_board_with_labels(board)\n",
    "        player_move(board, current_player)\n",
    "        \n",
    "        status = check_tic_tac_toe_winner(board)\n",
    "        if status == 1:\n",
    "            draw_tic_tac_toe_board_with_labels(board)\n",
    "            print(\"Player 1 (X) wins!\")\n",
    "            break\n",
    "        elif status == 2:\n",
    "            draw_tic_tac_toe_board_with_labels(board)\n",
    "            print(\"Player 2 (O) wins!\")\n",
    "            break\n",
    "        elif status == 0:\n",
    "            draw_tic_tac_toe_board_with_labels(board)\n",
    "            print(\"The game is a draw!\")\n",
    "            break\n",
    "        \n",
    "        current_player = 2 if current_player == 1 else 1\n",
    "\n",
    "tic_tac_toe_game()\n"
   ]
  },
  {
   "cell_type": "code",
   "execution_count": null,
   "metadata": {
    "collapsed": true,
    "jupyter": {
     "outputs_hidden": true
    }
   },
   "outputs": [],
   "source": [
    "# Test your solution here"
   ]
  },
  {
   "cell_type": "markdown",
   "metadata": {},
   "source": [
    "*Exercise 10:* Test that your game works for 5x5 Tic Tac Toe.  "
   ]
  },
  {
   "cell_type": "code",
   "execution_count": 16,
   "metadata": {},
   "outputs": [
    {
     "name": "stdin",
     "output_type": "stream",
     "text": [
      "Enter the size of the Tic-Tac-Toe board (e.g., 3 for 3x3):  5\n"
     ]
    },
    {
     "name": "stdout",
     "output_type": "stream",
     "text": [
      "     A   B   C   D   E  \n",
      "   --- --- --- --- ---\n",
      "1 |   |   |   |   |   |\n",
      "   --- --- --- --- ---\n",
      "2 |   |   |   |   |   |\n",
      "   --- --- --- --- ---\n",
      "3 |   |   |   |   |   |\n",
      "   --- --- --- --- ---\n",
      "4 |   |   |   |   |   |\n",
      "   --- --- --- --- ---\n",
      "5 |   |   |   |   |   |\n",
      "   --- --- --- --- ---\n"
     ]
    },
    {
     "name": "stdin",
     "output_type": "stream",
     "text": [
      "Player 1, enter your move (e.g., 'A1', 'B3'):  a1\n"
     ]
    },
    {
     "name": "stdout",
     "output_type": "stream",
     "text": [
      "     A   B   C   D   E  \n",
      "   --- --- --- --- ---\n",
      "1 | X |   |   |   |   |\n",
      "   --- --- --- --- ---\n",
      "2 |   |   |   |   |   |\n",
      "   --- --- --- --- ---\n",
      "3 |   |   |   |   |   |\n",
      "   --- --- --- --- ---\n",
      "4 |   |   |   |   |   |\n",
      "   --- --- --- --- ---\n",
      "5 |   |   |   |   |   |\n",
      "   --- --- --- --- ---\n"
     ]
    },
    {
     "name": "stdin",
     "output_type": "stream",
     "text": [
      "Player 2, enter your move (e.g., 'A1', 'B3'):  b1\n"
     ]
    },
    {
     "name": "stdout",
     "output_type": "stream",
     "text": [
      "     A   B   C   D   E  \n",
      "   --- --- --- --- ---\n",
      "1 | X |   |   |   |   |\n",
      "   --- --- --- --- ---\n",
      "2 | O |   |   |   |   |\n",
      "   --- --- --- --- ---\n",
      "3 |   |   |   |   |   |\n",
      "   --- --- --- --- ---\n",
      "4 |   |   |   |   |   |\n",
      "   --- --- --- --- ---\n",
      "5 |   |   |   |   |   |\n",
      "   --- --- --- --- ---\n"
     ]
    },
    {
     "name": "stdin",
     "output_type": "stream",
     "text": [
      "Player 1, enter your move (e.g., 'A1', 'B3'):  a2\n"
     ]
    },
    {
     "name": "stdout",
     "output_type": "stream",
     "text": [
      "     A   B   C   D   E  \n",
      "   --- --- --- --- ---\n",
      "1 | X | X |   |   |   |\n",
      "   --- --- --- --- ---\n",
      "2 | O |   |   |   |   |\n",
      "   --- --- --- --- ---\n",
      "3 |   |   |   |   |   |\n",
      "   --- --- --- --- ---\n",
      "4 |   |   |   |   |   |\n",
      "   --- --- --- --- ---\n",
      "5 |   |   |   |   |   |\n",
      "   --- --- --- --- ---\n"
     ]
    },
    {
     "name": "stdin",
     "output_type": "stream",
     "text": [
      "Player 2, enter your move (e.g., 'A1', 'B3'):  b2\n"
     ]
    },
    {
     "name": "stdout",
     "output_type": "stream",
     "text": [
      "     A   B   C   D   E  \n",
      "   --- --- --- --- ---\n",
      "1 | X | X |   |   |   |\n",
      "   --- --- --- --- ---\n",
      "2 | O | O |   |   |   |\n",
      "   --- --- --- --- ---\n",
      "3 |   |   |   |   |   |\n",
      "   --- --- --- --- ---\n",
      "4 |   |   |   |   |   |\n",
      "   --- --- --- --- ---\n",
      "5 |   |   |   |   |   |\n",
      "   --- --- --- --- ---\n"
     ]
    },
    {
     "name": "stdin",
     "output_type": "stream",
     "text": [
      "Player 1, enter your move (e.g., 'A1', 'B3'):  a3\n"
     ]
    },
    {
     "name": "stdout",
     "output_type": "stream",
     "text": [
      "     A   B   C   D   E  \n",
      "   --- --- --- --- ---\n",
      "1 | X | X | X |   |   |\n",
      "   --- --- --- --- ---\n",
      "2 | O | O |   |   |   |\n",
      "   --- --- --- --- ---\n",
      "3 |   |   |   |   |   |\n",
      "   --- --- --- --- ---\n",
      "4 |   |   |   |   |   |\n",
      "   --- --- --- --- ---\n",
      "5 |   |   |   |   |   |\n",
      "   --- --- --- --- ---\n"
     ]
    },
    {
     "name": "stdin",
     "output_type": "stream",
     "text": [
      "Player 2, enter your move (e.g., 'A1', 'B3'):  b3\n"
     ]
    },
    {
     "name": "stdout",
     "output_type": "stream",
     "text": [
      "     A   B   C   D   E  \n",
      "   --- --- --- --- ---\n",
      "1 | X | X | X |   |   |\n",
      "   --- --- --- --- ---\n",
      "2 | O | O | O |   |   |\n",
      "   --- --- --- --- ---\n",
      "3 |   |   |   |   |   |\n",
      "   --- --- --- --- ---\n",
      "4 |   |   |   |   |   |\n",
      "   --- --- --- --- ---\n",
      "5 |   |   |   |   |   |\n",
      "   --- --- --- --- ---\n"
     ]
    },
    {
     "name": "stdin",
     "output_type": "stream",
     "text": [
      "Player 1, enter your move (e.g., 'A1', 'B3'):  a4\n"
     ]
    },
    {
     "name": "stdout",
     "output_type": "stream",
     "text": [
      "     A   B   C   D   E  \n",
      "   --- --- --- --- ---\n",
      "1 | X | X | X | X |   |\n",
      "   --- --- --- --- ---\n",
      "2 | O | O | O |   |   |\n",
      "   --- --- --- --- ---\n",
      "3 |   |   |   |   |   |\n",
      "   --- --- --- --- ---\n",
      "4 |   |   |   |   |   |\n",
      "   --- --- --- --- ---\n",
      "5 |   |   |   |   |   |\n",
      "   --- --- --- --- ---\n"
     ]
    },
    {
     "name": "stdin",
     "output_type": "stream",
     "text": [
      "Player 2, enter your move (e.g., 'A1', 'B3'):  b4\n"
     ]
    },
    {
     "name": "stdout",
     "output_type": "stream",
     "text": [
      "     A   B   C   D   E  \n",
      "   --- --- --- --- ---\n",
      "1 | X | X | X | X |   |\n",
      "   --- --- --- --- ---\n",
      "2 | O | O | O | O |   |\n",
      "   --- --- --- --- ---\n",
      "3 |   |   |   |   |   |\n",
      "   --- --- --- --- ---\n",
      "4 |   |   |   |   |   |\n",
      "   --- --- --- --- ---\n",
      "5 |   |   |   |   |   |\n",
      "   --- --- --- --- ---\n"
     ]
    },
    {
     "name": "stdin",
     "output_type": "stream",
     "text": [
      "Player 1, enter your move (e.g., 'A1', 'B3'):  a5\n"
     ]
    },
    {
     "name": "stdout",
     "output_type": "stream",
     "text": [
      "     A   B   C   D   E  \n",
      "   --- --- --- --- ---\n",
      "1 | X | X | X | X | X |\n",
      "   --- --- --- --- ---\n",
      "2 | O | O | O | O |   |\n",
      "   --- --- --- --- ---\n",
      "3 |   |   |   |   |   |\n",
      "   --- --- --- --- ---\n",
      "4 |   |   |   |   |   |\n",
      "   --- --- --- --- ---\n",
      "5 |   |   |   |   |   |\n",
      "   --- --- --- --- ---\n",
      "Player 1 (X) wins!\n"
     ]
    }
   ],
   "source": [
    "# Test your solution here\n",
    "def tic_tac_toe_game():\n",
    "    n = int(input(\"Enter the size of the Tic-Tac-Toe board (e.g., 3 for 3x3): \"))\n",
    "    board = make_game_board(n)\n",
    "    current_player = 1\n",
    "    \n",
    "    while True:\n",
    "        draw_tic_tac_toe_board_with_labels(board)\n",
    "        player_move(board, current_player)\n",
    "        \n",
    "        status = check_tic_tac_toe_winner(board)\n",
    "        if status == 1:\n",
    "            draw_tic_tac_toe_board_with_labels(board)\n",
    "            print(\"Player 1 (X) wins!\")\n",
    "            break\n",
    "        elif status == 2:\n",
    "            draw_tic_tac_toe_board_with_labels(board)\n",
    "            print(\"Player 2 (O) wins!\")\n",
    "            break\n",
    "        elif status == 0:\n",
    "            draw_tic_tac_toe_board_with_labels(board)\n",
    "            print(\"The game is a draw!\")\n",
    "            break\n",
    "        \n",
    "        current_player = 2 if current_player == 1 else 1\n",
    "\n",
    "tic_tac_toe_game()"
   ]
  },
  {
   "cell_type": "markdown",
   "metadata": {},
   "source": [
    "*Exercise 11:* (Advanced / Challenge) Develop a version of the game where one player is the computer. Note that you don't need to do an extensive seach for the best move. You can have the computer simply protect against loosing and otherwise try to win with straight or diagonal patterns."
   ]
  },
  {
   "cell_type": "code",
   "execution_count": 17,
   "metadata": {},
   "outputs": [],
   "source": [
    "# Write you solution here\n"
   ]
  },
  {
   "cell_type": "markdown",
   "metadata": {},
   "source": [
    "### "
   ]
  },
  {
   "cell_type": "code",
   "execution_count": null,
   "metadata": {
    "collapsed": true,
    "jupyter": {
     "outputs_hidden": true
    }
   },
   "outputs": [],
   "source": [
    "# Test your solution here"
   ]
  }
 ],
 "metadata": {
  "kernelspec": {
   "display_name": "Python 3 (ipykernel)",
   "language": "python",
   "name": "python3"
  },
  "language_info": {
   "codemirror_mode": {
    "name": "ipython",
    "version": 3
   },
   "file_extension": ".py",
   "mimetype": "text/x-python",
   "name": "python",
   "nbconvert_exporter": "python",
   "pygments_lexer": "ipython3",
   "version": "3.10.12"
  }
 },
 "nbformat": 4,
 "nbformat_minor": 4
}
